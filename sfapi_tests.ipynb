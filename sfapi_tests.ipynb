{
 "cells": [
  {
   "cell_type": "code",
   "execution_count": null,
   "metadata": {},
   "outputs": [],
   "source": [
    "# import logging\n",
    "# logging.basicConfig(level=\"DEBUG\")\n",
    "\n",
    "from SuperfacilityAPI import SuperfacilityAPI, SuperfacilityAccessToken\n",
    "import pandas as pd\n",
    "\n",
    "\n",
    "api_key = SuperfacilityAccessToken(\"home\")\n",
    "sfapi = SuperfacilityAPI(api_key)\n"
   ]
  },
  {
   "cell_type": "code",
   "execution_count": null,
   "metadata": {},
   "outputs": [],
   "source": [
    "try:\n",
    "    jobs = sfapi.get_jobs(site=\"perlmutter\", user=\"tylern\", sacct=False)\n",
    "except Exception as err:\n",
    "    print(err)\n",
    "\n",
    "jobs_df = pd.DataFrame(jobs['output'])\n"
   ]
  },
  {
   "cell_type": "code",
   "execution_count": null,
   "metadata": {},
   "outputs": [],
   "source": [
    "running = jobs_df[jobs_df.state == \"RUNNING\"]\n",
    "running\n"
   ]
  },
  {
   "cell_type": "code",
   "execution_count": null,
   "metadata": {},
   "outputs": [],
   "source": []
  },
  {
   "cell_type": "code",
   "execution_count": null,
   "metadata": {},
   "outputs": [],
   "source": [
    "import time\n",
    "for _ in range(500):\n",
    "    print(_, sfapi.ls(\"/global/cfs/cdirs/nstaff/tylern\", site=\"cori\"))\n",
    "    time.sleep(120)"
   ]
  },
  {
   "cell_type": "code",
   "execution_count": null,
   "metadata": {},
   "outputs": [],
   "source": []
  }
 ],
 "metadata": {
  "kernelspec": {
   "display_name": "api",
   "language": "python",
   "name": "python3"
  },
  "language_info": {
   "codemirror_mode": {
    "name": "ipython",
    "version": 3
   },
   "file_extension": ".py",
   "mimetype": "text/x-python",
   "name": "python",
   "nbconvert_exporter": "python",
   "pygments_lexer": "ipython3",
   "version": "3.10.0"
  },
  "orig_nbformat": 4,
  "vscode": {
   "interpreter": {
    "hash": "53d758f36e0ad572596c98314f7fedded3686c18c2797d6651577eb2add0ebd0"
   }
  }
 },
 "nbformat": 4,
 "nbformat_minor": 2
}
